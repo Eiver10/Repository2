{
  "cells": [
    {
      "cell_type": "markdown",
      "metadata": {
        "id": "view-in-github",
        "colab_type": "text"
      },
      "source": [
        "<a href=\"https://colab.research.google.com/github/Eiver10/Repository2/blob/main/Te_damos_la_bienvenida_a_Colaboratory.ipynb\" target=\"_parent\"><img src=\"https://colab.research.google.com/assets/colab-badge.svg\" alt=\"Open In Colab\"/></a>"
      ]
    },
    {
      "cell_type": "code",
      "source": [
        "Algoritmo:\n",
        "\n",
        "Iniciar\n",
        "Definir variables; puntos = 0 (contador de puntos del usuario); intentos = 3 (número de intentos del usuario)\n",
        "Generar elección aleatoria de la máquina; eleccion_maquina = \"cara\" o \"sello\" (seleccionado aleatoriamente)\n",
        "Pedir al usuario que adivine la elección; eleccion_usuario = input del usuario (cara o sello)\n",
        "Comparar la elección del usuario con la elección de la máquina; Si coinciden, sumar 1 punto a puntos. Si no coinciden, restar 1 intento a intentos\n",
        "Mostrar resultado de la elección y número de intentos restantes\n",
        "Repetir pasos 3-6 mientras intentos > 0\n",
        "Mostrar número de puntos obtenidos al finalizar el juego\n",
        "Preguntar al usuario si quiere jugar de nuevo; Si responde \"si\", reiniciar el juego. Si responde \"no\", finalizar el juego.\n",
        "Finalizar."
      ],
      "metadata": {
        "id": "tMMVP2YthWW-"
      },
      "execution_count": null,
      "outputs": []
    },
    {
      "cell_type": "code",
      "source": [
        "Pseudocódigo\n",
        "\n",
        "DECLARE FLOAT puntos\n",
        "DECLARE INTEGER intentos\n",
        "DECLARE STRING eleccion_maquina\n",
        "DECLARE STRING eleccion_usuario\n",
        "DECLARE STRING jugar_de_nuevo\n",
        "DISPLAY \"Ingresa el valor inicial de puntos: \"\n",
        "INPUT puntos\n",
        "DISPLAY \"Adivina: cara o sello?\"\n",
        "INPUT elección_usuario\n",
        "DISPLAY \"Ingresa el valor de puntos para sumar: \"\n",
        "INPUT puntos\n",
        "puntos = puntos + 1.0\n",
        "DISPLAY \"¡Acertaste!\"\n",
        "ELSE\n",
        "intentos = intentos - 1\n",
        "DISPLAY \"Fallaste. La elección era \" + eleccion_maquina\n",
        "DISPLAY \"Te quedan \" + intentos + \" intentos.\"\n",
        "DISPLAY \"Obtuviste \" + puntos + \" puntos.\"\n",
        "DISPLAY \"¿Quieres jugar de nuevo? (si/no): \"\n",
        "INPUT jugar_de_nuevo\n",
        "IF jugar_de_nuevo == \"si\"\n",
        "// Reiniciar el juego\n",
        "ELSE\n",
        "DISPLAY \"¡Hasta luego!\""
      ],
      "metadata": {
        "id": "6UBnLPHQjg9w"
      },
      "execution_count": null,
      "outputs": []
    },
    {
      "cell_type": "code",
      "source": [
        "import random\n",
        "\n",
        "def juego_cara_sello():\n",
        "    puntos = 0\n",
        "    intentos = 3\n",
        "\n",
        "    while True:\n",
        "        # Seleccionar aleatoriamente \"cara\" o \"sello\"\n",
        "        resultado = random.choice([\"cara\", \"sello\"])\n",
        "\n",
        "        # Pedir al usuario que adivine\n",
        "        adivinanza = input(\"Adivina 'cara' o 'sello': \")\n",
        "\n",
        "        # Comprobar si el usuario ha acertado\n",
        "        if adivinanza == resultado:\n",
        "            puntos += 1\n",
        "            print(f\"¡Correcto! Tienes {puntos} puntos.\")\n",
        "        else:\n",
        "            intentos -= 1\n",
        "            print(f\"Incorrecto. Te quedan {intentos} intentos.\")\n",
        "\n",
        "        # Comprobar si el usuario se ha quedado sin intentos\n",
        "        if intentos == 0:\n",
        "            print(f\"Te has quedado sin intentos. Has conseguido {puntos} puntos.\")\n",
        "            break\n",
        "\n",
        "    # Preguntar al usuario si quiere jugar de nuevo\n",
        "    jugar_de_nuevo = input(\"¿Quieres jugar de nuevo? (Sí/No): \")\n",
        "    if jugar_de_nuevo.lower() == \"sí\":\n",
        "        juego_cara_sello()\n",
        "    else:\n",
        "        print(\"Gracias por jugar.\")\n",
        "\n",
        "# Iniciar el juego\n",
        "juego_cara_sello()"
      ],
      "metadata": {
        "colab": {
          "base_uri": "https://localhost:8080/"
        },
        "id": "pftzrxuDjiRG",
        "outputId": "ffa7b35c-f580-4f1c-f13d-6b1bebc3f92e"
      },
      "execution_count": 2,
      "outputs": [
        {
          "output_type": "stream",
          "name": "stdout",
          "text": [
            "Adivina 'cara' o 'sello': sello\n",
            "Incorrecto. Te quedan 2 intentos.\n",
            "Adivina 'cara' o 'sello': cara\n",
            "¡Correcto! Tienes 1 puntos.\n",
            "Adivina 'cara' o 'sello': cara\n",
            "¡Correcto! Tienes 2 puntos.\n",
            "Adivina 'cara' o 'sello': sello\n",
            "Incorrecto. Te quedan 1 intentos.\n",
            "Adivina 'cara' o 'sello': cara\n",
            "Incorrecto. Te quedan 0 intentos.\n",
            "Te has quedado sin intentos. Has conseguido 2 puntos.\n",
            "¿Quieres jugar de nuevo? (Sí/No): no\n",
            "Gracias por jugar.\n"
          ]
        }
      ]
    },
    {
      "cell_type": "code",
      "source": [
        "ALGORITMO\n",
        "Inicializar lista de calificaciones y pesos\n",
        "Pedir al usuario que ingrese una calificación y su peso\n",
        "Agregar la calificación y su peso a la lista\n",
        "Preguntar al usuario si desea ingresar otra calificación\n",
        "Si el usuario responde \"sí\", repetir pasos 2-4\n",
        "Si el usuario responde \"no\", calcular el promedio ponderado\n",
        "Mostrar el promedio ponderado"
      ],
      "metadata": {
        "id": "bSiWX61FkE05"
      },
      "execution_count": null,
      "outputs": []
    },
    {
      "cell_type": "code",
      "source": [
        "PSUDOCODIGO\n",
        "procedimiento calcular_promedio_ponderado\n",
        "  calificaciones <- lista vacía\n",
        "  pesos <- lista vacía\n",
        "  mientras true\n",
        "    nota <- pedir_usuario(\"Ingrese la calificación: \")\n",
        "    peso <- pedir_usuario(\"Ingrese el porcentaje: \")\n",
        "    agregar nota y peso a calificaciones y pesos\n",
        "    respuesta <- pedir_usuario(\"¿Desea ingresar otra calificación? (Sí/No): \")\n",
        "    si respuesta == \"no\"\n",
        "      break\n",
        "  fin_mientras\n",
        "  suma_productos <- 0\n",
        "  suma_pesos <- 0\n",
        "  para cada calificación y peso en calificaciones y pesos\n",
        "    suma_productos <- suma_productos + (calificación * peso)\n",
        "    suma_pesos <- suma_pesos + peso\n",
        "  fin_para\n",
        "  promedio_ponderado <- suma_productos / suma_pesos\n",
        "  mostrar_mensaje(\"El promedio ponderado es: \" + promedio_ponderado)\n",
        "fin_procedimiento"
      ],
      "metadata": {
        "id": "IXH6SImrk7bP"
      },
      "execution_count": null,
      "outputs": []
    },
    {
      "cell_type": "code",
      "source": [
        "def calcular_promedio_ponderado():\n",
        "    calificaciones = []\n",
        "    pesos = []\n",
        "\n",
        "    while True:\n",
        "        nota = float(input(\"Ingrese la calificación: \"))\n",
        "        peso = float(input(\"Ingrese el porcentaje: \"))\n",
        "        calificaciones.append(nota)\n",
        "        pesos.append(peso)\n",
        "\n",
        "        respuesta = input(\"¿Desea ingresar otra calificación? (Sí/No): \")\n",
        "        if respuesta.lower() == \"no\":\n",
        "            break\n",
        "\n",
        "    suma_productos = 0\n",
        "    suma_pesos = 0\n",
        "    for nota, peso in zip(calificaciones, pesos):\n",
        "        suma_productos += nota * peso\n",
        "        suma_pesos += peso\n",
        "\n",
        "    promedio_ponderado = suma_productos / suma_pesos\n",
        "    print(f\"El promedio ponderado es: {promedio_ponderado:.2f}\")\n",
        "\n",
        "# Iniciar el programa\n",
        "calcular_promedio_ponderado()"
      ],
      "metadata": {
        "colab": {
          "base_uri": "https://localhost:8080/"
        },
        "id": "UBEIBWN-lCR7",
        "outputId": "355e22db-45cb-4ba1-e74d-ab153fa24c0f"
      },
      "execution_count": 4,
      "outputs": [
        {
          "output_type": "stream",
          "name": "stdout",
          "text": [
            "Ingrese la calificación: 4.5\n",
            "Ingrese el porcentaje: 15\n",
            "¿Desea ingresar otra calificación? (Sí/No): SI\n",
            "Ingrese la calificación: 3\n",
            "Ingrese el porcentaje: 20\n",
            "¿Desea ingresar otra calificación? (Sí/No): NO\n",
            "El promedio ponderado es: 3.64\n"
          ]
        }
      ]
    }
  ],
  "metadata": {
    "colab": {
      "name": "Te damos la bienvenida a Colaboratory",
      "toc_visible": true,
      "provenance": [],
      "include_colab_link": true
    },
    "kernelspec": {
      "display_name": "Python 3",
      "name": "python3"
    }
  },
  "nbformat": 4,
  "nbformat_minor": 0
}