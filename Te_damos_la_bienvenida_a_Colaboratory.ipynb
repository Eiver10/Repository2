{
  "cells": [
    {
      "cell_type": "markdown",
      "metadata": {
        "id": "view-in-github",
        "colab_type": "text"
      },
      "source": [
        "<a href=\"https://colab.research.google.com/github/Eiver10/Repository2/blob/main/Te_damos_la_bienvenida_a_Colaboratory.ipynb\" target=\"_parent\"><img src=\"https://colab.research.google.com/assets/colab-badge.svg\" alt=\"Open In Colab\"/></a>"
      ]
    },
    {
      "cell_type": "code",
      "source": [
        "ALGORITMO PARA SIMULAR CAJERO AUTOMATICO\n",
        "Iniciar\n",
        "Inicializar cuentas como diccionario vacio\n",
        "mientras programa activo (ciclo principal)\n",
        "  mostrar mensaje inicio\n",
        "   (crear cuenta o logeuarse)\n",
        "  solicitar opcion inicial\n",
        "  si opcion es crear cuenta\n",
        "    solicitar usuario\n",
        "    solicitar contraseña\n",
        "    solicitar saldo inicial"
      ],
      "metadata": {
        "id": "Gjr2TqCsUiAT"
      },
      "execution_count": null,
      "outputs": []
    },
    {
      "cell_type": "code",
      "source": [
        "def login():\n",
        "  username = input(\"Ingrese su usuario: \")\n",
        "  if username in accounts.keys():\n",
        "  password = input(\"Ingrese su contraseña: \")\n",
        "  if username in accounts.keys() and password == accounts[username]:\n",
        "    print(\"Bienvenido\")\n",
        "    return username\n",
        "  else:\n",
        "    print(\"Usuario o contraseña incorrectos\")\n",
        "    return False\n",
        "  return True\n",
        "\n",
        "def create_account():\n",
        "  username = input(\"Ingrese su usuario: \")\n",
        "  if username not in accounts.keys():\n",
        "    password = input(\"Ingrese su contraseña: \")\n",
        "    balance = input(\"Ingrese su saldo inicial: \")\n",
        "    accounts[username] = password\n",
        "\n",
        "def consultar_saldo(account_id):\n",
        "  pass\n",
        "\n",
        "def retirar_dinero(account_id):\n",
        "  pass\n",
        "\n",
        "def depositar_dinero(account_id):\n",
        "  pass\n",
        "\n",
        "accounts = {}\n",
        "\n",
        "while True:\n",
        "  print(\"Bienvenido al Banco Nequi. \\n¿En que le podemos colaborar?\")\n",
        "  print(\"1. Ingresar\\n2. crear cuenta\\n3. salir\")\n",
        "  user_choice = int(input(\">>> \"))\n",
        "  if user_choice == 1:\n",
        "    account_id = login()\n",
        "  elif user_choice == 2:\n",
        "    create_account()\n",
        "  elif user_choice == 3:\n",
        "    print(\"Gracias por preferirnos :)\")\n",
        "    break\n",
        "  else:\n",
        "    print(\"Opcion incorrecta. Intente de nuevo\")\n",
        "\n",
        "  while account_id:\n",
        "    print(\"Bienvenido a su cuenta\")\n",
        "    print(\"Que desea hacer?\")\n",
        "    print(\"1. Consultar saldo\\n2. Retirar dinero\\n3. Depositar dinero\\n4. Salir\")\n",
        "    user_action = int(input(\">>> \"))\n",
        "    if user_action == 1:\n",
        "      consultar_saldo(account_id)\n",
        "    elif user_action == 2:\n",
        "      retirar_dinero(account_id)\n",
        "    elif user_action == 3:\n",
        "      depositar_dinero(account_id)\n",
        "    elif user_action == 4:\n",
        "      print(\"Gracias por preferirnos :)\")\n",
        "      account_id = False\n",
        "      break\n",
        "    else:\n",
        "      print(\"Opcion incorrecta. Intente de nuevo\")\n",
        "\n",
        ""
      ],
      "metadata": {
        "id": "9eGVn-tgYOMa",
        "outputId": "23770356-f8f1-47b7-80b8-7e6a23aba7a2",
        "colab": {
          "base_uri": "https://localhost:8080/",
          "height": 106
        }
      },
      "execution_count": 11,
      "outputs": [
        {
          "output_type": "error",
          "ename": "IndentationError",
          "evalue": "unexpected indent (<ipython-input-11-977301a49cdd>, line 3)",
          "traceback": [
            "\u001b[0;36m  File \u001b[0;32m\"<ipython-input-11-977301a49cdd>\"\u001b[0;36m, line \u001b[0;32m3\u001b[0m\n\u001b[0;31m    if username in accounts.keys():\u001b[0m\n\u001b[0m    ^\u001b[0m\n\u001b[0;31mIndentationError\u001b[0m\u001b[0;31m:\u001b[0m unexpected indent\n"
          ]
        }
      ]
    }
  ],
  "metadata": {
    "colab": {
      "name": "Te damos la bienvenida a Colaboratory",
      "provenance": [],
      "include_colab_link": true
    },
    "kernelspec": {
      "display_name": "Python 3",
      "name": "python3"
    }
  },
  "nbformat": 4,
  "nbformat_minor": 0
}