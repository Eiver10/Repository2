{
  "cells": [
    {
      "cell_type": "markdown",
      "metadata": {
        "id": "view-in-github",
        "colab_type": "text"
      },
      "source": [
        "<a href=\"https://colab.research.google.com/github/Eiver10/Repository2/blob/main/Te_damos_la_bienvenida_a_Colaboratory.ipynb\" target=\"_parent\"><img src=\"https://colab.research.google.com/assets/colab-badge.svg\" alt=\"Open In Colab\"/></a>"
      ]
    },
    {
      "cell_type": "markdown",
      "source": [
        "# Mis Apuntes de Python\n",
        "### Fundamentos de programacion 202402\n",
        "\n",
        "**Nombre:** Eiver Miranda\n",
        "\n",
        "__email:__Eiver.mirandaQupb.edu.co\n",
        "\n",
        "*Fecha de creacion:* 20 de Agosto, 2024\n",
        "\n",
        "_Excelsius!_"
      ],
      "metadata": {
        "id": "CvUCWTZDsE_x"
      }
    },
    {
      "cell_type": "markdown",
      "source": [],
      "metadata": {
        "id": "SJ7pm1zguzk-"
      }
    },
    {
      "cell_type": "code",
      "source": [
        "# Mis primeros pasos con Python\n",
        "\n",
        "print(\"Hola Mundo\")\n",
        "print('Ahhhhhh')\n",
        "print(\"Eiver\")\n",
        "\n",
        "name = \"Eiver\"\n",
        "age = 20\n",
        "city = \"Monteria\"\n",
        "\n",
        "print(\"Hola, mi nombre es\", name, \"tengo\", age, \"años y soy de\" , city)\n",
        "\n",
        "#Numeros\n",
        "a = 10\n",
        "b = 2.5\n",
        "c = a + b\n",
        "print(c)\n",
        "\n",
        "# Tipo de datos\n",
        "print(type(a))\n",
        "print(type(b))\n",
        "print(type(c))\n"
      ],
      "metadata": {
        "colab": {
          "base_uri": "https://localhost:8080/"
        },
        "id": "Q-wdSVVcvGE9",
        "outputId": "9f363d85-2871-4556-d855-fd840d0afe28"
      },
      "execution_count": null,
      "outputs": [
        {
          "output_type": "stream",
          "name": "stdout",
          "text": [
            "Hola Mundo\n",
            "Ahhhhhh\n",
            "Eiver\n",
            "Hola, mi nombre es Eiver tengo 20 años y soy de Monteria\n",
            "12.5\n",
            "<class 'int'>\n",
            "<class 'float'>\n",
            "<class 'float'>\n"
          ]
        }
      ]
    },
    {
      "cell_type": "code",
      "source": [
        "# Operaciones Matrematicas Basicas\n",
        "\n",
        "print(3 + 2) # Suma\n",
        "print(3 - 2) # Resta\n",
        "print(3 * 2) # Multiplicacion\n",
        "print(3 / 2) # Division\n",
        "print(3 % 2) # Modulo\n",
        "print(3 ** 2) # Potencia\n",
        "print(3 // 2) # Division Entera\n"
      ],
      "metadata": {
        "colab": {
          "base_uri": "https://localhost:8080/"
        },
        "id": "Fc0kClFWze0n",
        "outputId": "0adf431b-2898-462b-b029-5b1af39c8ed2"
      },
      "execution_count": null,
      "outputs": [
        {
          "output_type": "stream",
          "name": "stdout",
          "text": [
            "5\n",
            "1\n",
            "6\n",
            "1.5\n",
            "1\n",
            "9\n",
            "1\n"
          ]
        }
      ]
    },
    {
      "cell_type": "code",
      "source": [
        "# Concatenacion\n",
        "\n",
        "name = \"Eiver\"\n",
        "lastname = \"Miranda\"\n",
        "fullname = name + \" \" + lastname\n",
        "print(\"-\" * 20)\n",
        "print(fullname)\n",
        "print(\"-\" * 20)\n"
      ],
      "metadata": {
        "colab": {
          "base_uri": "https://localhost:8080/"
        },
        "id": "KvmnCIG71VoJ",
        "outputId": "8fedf4ee-97ee-4bb9-c581-9fd201d7f9b0"
      },
      "execution_count": null,
      "outputs": [
        {
          "output_type": "stream",
          "name": "stdout",
          "text": [
            "--------------------\n",
            "Eiver Miranda\n",
            "--------------------\n"
          ]
        }
      ]
    },
    {
      "cell_type": "code",
      "source": [
        "# Incrementos\n",
        "\n",
        "a = 20\n",
        "print(\"a =\", a)\n",
        "b = 10\n",
        "a += b\n",
        "print(\"a =\", a)\n",
        "a -= b\n",
        "print(\"a =\", a)\n",
        "a *= b\n",
        "print(\"a =\", a)\n",
        "a /= b\n",
        "print(\"a =\", a)"
      ],
      "metadata": {
        "colab": {
          "base_uri": "https://localhost:8080/"
        },
        "id": "EzeaEHoJ3BOB",
        "outputId": "298ab3ff-3122-4914-bce3-36ee8d27a00c"
      },
      "execution_count": null,
      "outputs": [
        {
          "output_type": "stream",
          "name": "stdout",
          "text": [
            "a = 20\n",
            "a = 30\n",
            "a = 20\n",
            "a = 200\n",
            "a = 20.0\n"
          ]
        }
      ]
    },
    {
      "cell_type": "code",
      "source": [
        "# Multi-line\n",
        "\n",
        "song = \"\"\"\n",
        "Without you\n",
        "I'm on my own\n",
        "Am I'm gonna be alone\n",
        "And if it's only\n",
        "Me, myself and I\n",
        "Will I be fine?\n",
        "So far from home\n",
        "And I just don't know\n",
        "Am I gonna make it\n",
        "Brave enough to\n",
        "Take this road\n",
        "Out on my own\n",
        "\"\"\"\n",
        "print(song)\n"
      ],
      "metadata": {
        "colab": {
          "base_uri": "https://localhost:8080/"
        },
        "id": "8wsP2CPv4QXK",
        "outputId": "fbb38350-b015-42d8-a506-fee2bfd244af"
      },
      "execution_count": null,
      "outputs": [
        {
          "output_type": "stream",
          "name": "stdout",
          "text": [
            "\n",
            "Without you\n",
            "I'm on my own\n",
            "Am I'm gonna be alone\n",
            "And if it's only\n",
            "Me, myself and I\n",
            "Will I be fine?\n",
            "So far from home\n",
            "And I just don't know\n",
            "Am I gonna make it\n",
            "Brave enough to\n",
            "Take this road\n",
            "Out on my own\n",
            "\n"
          ]
        }
      ]
    },
    {
      "cell_type": "code",
      "source": [],
      "metadata": {
        "id": "DmCogvKT6VfP"
      },
      "execution_count": null,
      "outputs": []
    }
  ],
  "metadata": {
    "colab": {
      "name": "Te damos la bienvenida a Colaboratory",
      "toc_visible": true,
      "provenance": [],
      "include_colab_link": true
    },
    "kernelspec": {
      "display_name": "Python 3",
      "name": "python3"
    }
  },
  "nbformat": 4,
  "nbformat_minor": 0
}