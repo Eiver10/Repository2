{
  "cells": [
    {
      "cell_type": "markdown",
      "metadata": {
        "id": "view-in-github",
        "colab_type": "text"
      },
      "source": [
        "<a href=\"https://colab.research.google.com/github/Eiver10/Repository2/blob/main/Copy_of_Welcome_To_Colab.ipynb\" target=\"_parent\"><img src=\"https://colab.research.google.com/assets/colab-badge.svg\" alt=\"Open In Colab\"/></a>"
      ]
    },
    {
      "cell_type": "code",
      "source": [
        "\n",
        "\n",
        "# PROFRAMA PARA CALCULAR LA UTILIDAD EN EL NEGOCIO DE VIVIENDAS REMODELADAS\n",
        "\n",
        "# Datos\n",
        "\n",
        "preciocompra = float(input(\" ingrese el precio de la compra de viviendas\"))\n",
        "costoremodelar = float(input(\"ingrese el costo de remodelacion de la vivienda\"))\n",
        "precioventa = float(input(\"ingese el precio de venta de las viviendas\"))\n",
        "pcomision = float(input(\"ingrese el porcentaje de comision\")) / 100\n",
        "\n",
        "# preciocompra = 80\n",
        "# costo remodelar = 10\n",
        "# precioventa = 200\n",
        "# pcomision = 10 / 100\n",
        "\n",
        "# calculos\n",
        "comision = precioventa * pcomision\n",
        "utilidad = precioventa - (preciocompra + costoremodelar + comision)\n",
        "\n",
        "# resultados\n",
        "print(\"la utilidad de la vivinda fue de \", utilidad)\n"
      ],
      "metadata": {
        "colab": {
          "base_uri": "https://localhost:8080/"
        },
        "id": "S76L_P_E7aDU",
        "outputId": "9ff1af2b-6b50-4d8c-b90c-7c7c13184ba5"
      },
      "execution_count": 6,
      "outputs": [
        {
          "output_type": "stream",
          "name": "stdout",
          "text": [
            " ingrese el precio de la compra de viviendas80\n",
            "ingrese el costo de remodelacion de la vivienda10\n",
            "ingese el precio de venta de las viviendas200\n",
            "ingrese el porcentaje de comision10\n",
            "la utilidad de la vivinda fue de  90.0\n"
          ]
        }
      ]
    },
    {
      "cell_type": "code",
      "source": [
        "#PROGRAMA PARA EL CALCULO DE AREA DE UN CIRCULO\n",
        "\n",
        "PI = 3.141592\n",
        "\n",
        "# DATOS\n",
        "Radius = float(input(\"ingrese el valor del radio (m)\"))\n",
        "\n",
        "# Calculos\n",
        "areaCirc = PI * Radius ** 2\n",
        "\n",
        "# Resultados\n",
        "print(\"El area del circulo con radio \"), Radius, \"m es\", areaCirc, \"m2.\""
      ],
      "metadata": {
        "colab": {
          "base_uri": "https://localhost:8080/"
        },
        "id": "bDp3-YCOFJFA",
        "outputId": "4454bcce-dfcd-4b89-d09d-b38658455f76"
      },
      "execution_count": 10,
      "outputs": [
        {
          "output_type": "stream",
          "name": "stdout",
          "text": [
            "ingrese el valor del radio (m)6\n",
            "El area del circulo con radio \n"
          ]
        },
        {
          "output_type": "execute_result",
          "data": {
            "text/plain": [
              "(None, 6.0, 'm es', 113.097312, 'm2.')"
            ]
          },
          "metadata": {},
          "execution_count": 10
        }
      ]
    },
    {
      "cell_type": "code",
      "source": [
        "# PROGRAMA PARA CALCULAR LA CANTIDAD DE MUFFINS\n",
        "LECHE = 24\n",
        "HARINA = 28\n",
        "LEVADURA = 3\n",
        "SAL = 2.5\n",
        "AZUCAR = 10\n",
        "HUEVO = 0.2\n",
        "MANTEQUILLA = 1.5\n",
        "\n",
        "muffins = int(input(\"ingrese la cantidad de muffins: \"))\n",
        "\n",
        "print(\"para hacer\", muffins, \"muffins:\")\n",
        "print(\"- leche:\", LECHE * muffins, \"ml\")\n",
        "print(\"- harina:\", HARINA * muffins, \"g\")\n",
        "print(\"- levadura:\", LEVADURA * muffins, \"g\")\n",
        "print(\"- sal:\", SAL * muffins, \"g\")\n",
        "print(\"- azucar:\", AZUCAR * muffins, \"g\")\n",
        "print(\"- huevos:\", HUEVO * muffins, \"unidades\")\n",
        "print(\"- mantequilla:\", MANTEQUILLA * muffins, \"g\")\n"
      ],
      "metadata": {
        "colab": {
          "base_uri": "https://localhost:8080/"
        },
        "id": "Uk_yGXoXHdOb",
        "outputId": "e73c2ae4-6982-48bf-dcdd-8e2692d58b46"
      },
      "execution_count": 29,
      "outputs": [
        {
          "output_type": "stream",
          "name": "stdout",
          "text": [
            "ingrese la cantidad de muffins: 8\n",
            "para hacer 8 muffins:\n",
            "- leche: 192 ml\n",
            "- harina: 224 g\n",
            "- levadura: 24 g\n",
            "- sal: 20.0 g\n",
            "- azucar: 80 g\n",
            "- huevos: 1.6 unidades\n",
            "- mantequilla: 12.0 g\n"
          ]
        }
      ]
    }
  ],
  "metadata": {
    "colab": {
      "toc_visible": true,
      "provenance": [],
      "include_colab_link": true
    },
    "kernelspec": {
      "display_name": "Python 3",
      "name": "python3"
    }
  },
  "nbformat": 4,
  "nbformat_minor": 0
}