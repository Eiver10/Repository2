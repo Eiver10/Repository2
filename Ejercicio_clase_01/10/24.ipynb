{
  "cells": [
    {
      "cell_type": "markdown",
      "metadata": {
        "id": "view-in-github",
        "colab_type": "text"
      },
      "source": [
        "<a href=\"https://colab.research.google.com/github/Eiver10/Repository2/blob/main/Ejercicio_clase_01/10/24.ipynb\" target=\"_parent\"><img src=\"https://colab.research.google.com/assets/colab-badge.svg\" alt=\"Open In Colab\"/></a>"
      ]
    },
    {
      "cell_type": "code",
      "source": [
        "import random\n",
        "\n",
        "numbers = list(range(1,6))\n",
        "\n",
        "points = 0\n",
        "lifes = 3\n",
        "\n",
        "while True:\n",
        "  machine_choice = random.choice(numbers)\n",
        "  user_choice = int(input(\"\\nIngrese un numero del 1 al 5: \"))\n",
        "  if machine_choice == user_choice:\n",
        "    print(\"Acertaste\")\n",
        "    points += 1\n",
        "    print(f\"Puntos acomulados: {points}\")\n",
        "  else:\n",
        "    print(\"Boo!\")\n",
        "    lifes -= 1\n",
        "    print(f\"Vidas restantes: {lifes}\")\n",
        "    if lifes == 0:\n",
        "      print(\"Game Over\")\n",
        "      break\n",
        ""
      ],
      "metadata": {
        "colab": {
          "base_uri": "https://localhost:8080/"
        },
        "id": "TrCdDQ__-BL9",
        "outputId": "32eaec16-64eb-4c0a-f1ec-7f2ebca8ca90"
      },
      "execution_count": 16,
      "outputs": [
        {
          "output_type": "stream",
          "name": "stdout",
          "text": [
            "\n",
            "Ingrese un numero del 1 al 5: 2\n",
            "Boo!\n",
            "Vidas restantes: 2\n",
            "\n",
            "Ingrese un numero del 1 al 5: 5\n",
            "Acertaste\n",
            "Puntos acomulados: 1\n",
            "\n",
            "Ingrese un numero del 1 al 5: 1\n",
            "Boo!\n",
            "Vidas restantes: 1\n",
            "\n",
            "Ingrese un numero del 1 al 5: 3\n",
            "Boo!\n",
            "Vidas restantes: 0\n",
            "Game Over\n"
          ]
        }
      ]
    },
    {
      "cell_type": "code",
      "source": [
        "products = []\n",
        "keepAdding = True\n",
        "\n",
        "name = input(\"Ingrese el nombre del producto: \")\n",
        "price = float(input(\"Ingrese el precio del producto: \"))\n",
        "\n",
        "while keepAdding:\n",
        "  name = input(\"Ingrese el nombre del producto: \")\n",
        "  price = float(input(\"Ingrese el precio del producto: \"))\n",
        "  product = [name, price]\n",
        "  products.append(product)\n",
        "  user_choice = input(\"¿Desea agregar otro producto? (s/n): \")\n",
        "  if user_choice != \"s\":\n",
        "    keepAdding = False\n",
        "\n",
        "print(products)\n"
      ],
      "metadata": {
        "id": "KFNCqH5IFGsh",
        "outputId": "53a96700-5741-41a0-88fb-c37431f5926d",
        "colab": {
          "base_uri": "https://localhost:8080/"
        }
      },
      "execution_count": 25,
      "outputs": [
        {
          "output_type": "stream",
          "name": "stdout",
          "text": [
            "Ingrese el nombre del producto: papa\n",
            "Ingrese el precio del producto: 1500\n",
            "Ingrese el nombre del producto: yuca\n",
            "Ingrese el precio del producto: 1000\n",
            "¿Desea agregar otro producto? (s/n): s\n",
            "Ingrese el nombre del producto: ñame\n",
            "Ingrese el precio del producto: 3000\n",
            "¿Desea agregar otro producto? (s/n): s\n",
            "Ingrese el nombre del producto: manzana\n",
            "Ingrese el precio del producto: 2000\n",
            "¿Desea agregar otro producto? (s/n): n\n",
            "[['yuca', 1000.0], ['ñame', 3000.0], ['manzana', 2000.0]]\n"
          ]
        }
      ]
    },
    {
      "cell_type": "code",
      "source": [
        "for product in products:\n",
        "  print(f\"{product[0]}: ${product[1]}\")"
      ],
      "metadata": {
        "id": "Og6N4tREIsZn",
        "outputId": "100c7e26-91b1-41b1-c926-9f936f234d2f",
        "colab": {
          "base_uri": "https://localhost:8080/"
        }
      },
      "execution_count": 26,
      "outputs": [
        {
          "output_type": "stream",
          "name": "stdout",
          "text": [
            "yuca: $1000.0\n",
            "ñame: $3000.0\n",
            "manzana: $2000.0\n"
          ]
        }
      ]
    },
    {
      "cell_type": "code",
      "source": [
        "from re import sub\n",
        "total_products = 0\n",
        "total = 0\n",
        "print(\"Bienvenido a la tienda\")\n",
        "user_choice = input(\"¿Desea comprar un producto? (s/n): \")\n",
        "if user_choice == \"s\":\n",
        "  keepBuying = True\n",
        "else:\n",
        "  keepBuying = False\n",
        "while keepBuying:\n",
        "    print(\"Seleccione un producto: \")\n",
        "    for i in range(len(products)):\n",
        "        print(f\"{i+1}. {products[i][0]}: ${products[i][1]}\")\n",
        "    product = int(input(\"Producto: \"))\n",
        "    price = products[product-1][1]\n",
        "    quantity = int(input(\"Cantidad: \"))\n",
        "    sub_total = price * quantity\n",
        "    total += sub_total\n",
        "    total_products += quantity\n",
        "    print(f\"Subtotal: ${sub_total}\")\n",
        "    user_choice = input(\"¿Desea comprar otro producto? (s/n): \")\n",
        "    if user_choice != \"s\":\n",
        "        keepBuying = False\n",
        "\n",
        "print(f\"Total de productos: {total_products}\")\n",
        "print(f\"Total a pagar: ${total}\")\n",
        ""
      ],
      "metadata": {
        "id": "fHN3AF7_Kn3e",
        "outputId": "48ba00d9-c115-4994-fc7d-fb33f68e96ba",
        "colab": {
          "base_uri": "https://localhost:8080/"
        }
      },
      "execution_count": 29,
      "outputs": [
        {
          "output_type": "stream",
          "name": "stdout",
          "text": [
            "Bienvenido a la tienda\n",
            "¿Desea comprar un producto? (s/n): yuca\n",
            "Total de productos: 0\n",
            "Total a pagar: $0\n"
          ]
        }
      ]
    }
  ],
  "metadata": {
    "colab": {
      "name": "Te damos la bienvenida a Colaboratory",
      "provenance": [],
      "include_colab_link": true
    },
    "kernelspec": {
      "display_name": "Python 3",
      "name": "python3"
    }
  },
  "nbformat": 4,
  "nbformat_minor": 0
}