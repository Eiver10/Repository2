{
  "cells": [
    {
      "cell_type": "markdown",
      "metadata": {
        "id": "view-in-github",
        "colab_type": "text"
      },
      "source": [
        "<a href=\"https://colab.research.google.com/github/Eiver10/Repository2/blob/main/clase17/09/24.ipynb\" target=\"_parent\"><img src=\"https://colab.research.google.com/assets/colab-badge.svg\" alt=\"Open In Colab\"/></a>"
      ]
    },
    {
      "cell_type": "code",
      "source": [
        "iniciar\n",
        "declarar variable promedio = 0\n",
        "declarar variable suma peso = 0\n",
        "iniciar ciclo do until verificando notas\n",
        "obtener nota\n",
        "obtener peso\n",
        "sumar a promedio: (nota * peso)\n",
        "sumar a suma peso: peso\n",
        "preguntar si hay mas notas\n",
        "calcular total = (promedio / suma peso)\n",
        "mostrar total\n",
        "fin\n",
        "\n",
        "PSEUDOCODIGO\n",
        "start\n"
      ],
      "metadata": {
        "id": "cwONBlHW-TUj"
      },
      "execution_count": null,
      "outputs": []
    },
    {
      "cell_type": "code",
      "source": [
        "#PROGRAMA PARA CALCULAR EL TOTAL DE UN CARRITO DE COMPRAS\n",
        "iniciar\n",
        "iniciar variable de total igual a cero\n",
        "solicitar el precio del producto hasta que no haya mas\n",
        "productos en el carrito:\n",
        "  ingrese el precio del producto\n",
        "  sumar el precio del producto al total\n",
        "  preguntar si hay mas productos en el carrito\n",
        "    si el usuario ingresa que no, flag = false\n",
        "mostrar el total\n",
        "fin\n",
        "\n",
        "PSEUDOCODIGO\n",
        "program totalcarrito\n",
        "start\n",
        "\n",
        "    Declare float total = 0\n",
        "    Declare bool flag = true\n",
        "    Declare float price\n",
        "    Declare string user_answer\n",
        "\n",
        "    while (flag)\n",
        "           Display \"ingrese el precio del producto: \"\n",
        "           Input price\n",
        "           Set total += Price\n",
        "           Display \"¿hay mas productos? (y/n): \"\n",
        "           Input user_answer\n",
        "           If (user_answer == \"n\") Then\n",
        "                     flag = false\n",
        "           End If\n",
        "    End while\n",
        "\n",
        "    Display \"El total de la compra es de \", total\n",
        "End\n",
        "\n",
        "\n"
      ],
      "metadata": {
        "id": "Ip6fDi0PDQ9z"
      },
      "execution_count": null,
      "outputs": []
    }
  ],
  "metadata": {
    "colab": {
      "name": "Te damos la bienvenida a Colaboratory",
      "toc_visible": true,
      "provenance": [],
      "include_colab_link": true
    },
    "kernelspec": {
      "display_name": "Python 3",
      "name": "python3"
    }
  },
  "nbformat": 4,
  "nbformat_minor": 0
}