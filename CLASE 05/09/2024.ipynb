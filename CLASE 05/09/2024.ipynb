{
  "cells": [
    {
      "cell_type": "markdown",
      "metadata": {
        "id": "view-in-github",
        "colab_type": "text"
      },
      "source": [
        "<a href=\"https://colab.research.google.com/github/Eiver10/Repository2/blob/main/CLASE%2005/09/2024.ipynb\" target=\"_parent\"><img src=\"https://colab.research.google.com/assets/colab-badge.svg\" alt=\"Open In Colab\"/></a>"
      ]
    },
    {
      "cell_type": "code",
      "source": [
        "iniciar\n",
        "obtener el consumo de agua en m3\n",
        "obtener  el estrato socioeconomico\n",
        "si el consumo es menor o igual a 11 (m3):subtotal es el consumo multiplicado por 1000, si el consumo es mayor que 11 y menor o igual a 20 (m3), el subtotal es 11 * 1000 + (consumo - 11) * 2000; si el consumo es mayor que 20 (m3), el subtotal es 11 * 1000 + 9 * 2000 + (consumo - 20) * 3000\n",
        "si el estrato es 1, el subsidio es de 0.5 * subtotal, si el estrato es 2, el subsidio es de 0.4 * subtotal, si el estrato es 3, el subsidio es de 0.15 * subtotal; si el estrato es 4, el subsidio es 0. si es 5, 6 u otro, la contribucio es de 0.2 * subtotal.\n",
        "total = subtotal - subsidio\n",
        "mostrar el total\n",
        "finalizar\n",
        "\n",
        "pseudocodigo\n",
        "display \"Ingrese el estrato (1 - 6):\"\n",
        "input estrato\n",
        "\n",
        "if consumo <= 11 then\n",
        "    set subtotal = consumo * 1000\n",
        "else if consumo <= 20 then\n",
        "    set subtotal = 11 * 1000 + (consumo - 11) * 2000\n",
        "else\n",
        "    set subtotal = 11 * 1000 + 9 * 2000 + (consumo - 20) * 3000\n",
        "End if\n",
        "\n",
        "if estrato == 1 then\n",
        "    set subsidio = 0.5 * subtotal\n",
        "    set contribucion = 0\n",
        "else if estrato == 2 then\n",
        "    set subsidio = 0.4 * subtotal\n",
        "    set contribucion = 0\n",
        "else if estrato == 3 then\n",
        "    set subsidio = 0.15 * subtotal\n",
        "    set contribucion = 0\n",
        "else if estrato == 4 then\n",
        "    set subsidio = 0\n",
        "    set contribucion = 0\n",
        "else\n",
        "    set subsidio = 0\n",
        "    set contribucion = 0.2 * subtotal\n",
        "End if\n",
        "\n",
        "set total = subtotal - subsidio + contribucion\n",
        "display \"El total a pagar es: \", total\n",
        "\n",
        "End\n",
        "\n",
        "\n"
      ],
      "metadata": {
        "id": "GvVqZgphJKpU",
        "outputId": "0b699313-7218-49f3-cea4-b23e9021dba8",
        "colab": {
          "base_uri": "https://localhost:8080/",
          "height": 106
        }
      },
      "execution_count": 2,
      "outputs": [
        {
          "output_type": "error",
          "ename": "SyntaxError",
          "evalue": "invalid syntax (<ipython-input-2-4ab844418bd4>, line 2)",
          "traceback": [
            "\u001b[0;36m  File \u001b[0;32m\"<ipython-input-2-4ab844418bd4>\"\u001b[0;36m, line \u001b[0;32m2\u001b[0m\n\u001b[0;31m    obtener el consumo de agua en m3\u001b[0m\n\u001b[0m            ^\u001b[0m\n\u001b[0;31mSyntaxError\u001b[0m\u001b[0;31m:\u001b[0m invalid syntax\n"
          ]
        }
      ]
    }
  ],
  "metadata": {
    "colab": {
      "name": "Te damos la bienvenida a Colaboratory",
      "toc_visible": true,
      "provenance": [],
      "include_colab_link": true
    },
    "kernelspec": {
      "display_name": "Python 3",
      "name": "python3"
    }
  },
  "nbformat": 4,
  "nbformat_minor": 0
}